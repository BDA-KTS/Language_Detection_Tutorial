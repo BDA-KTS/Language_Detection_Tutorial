{
 "cells": [
  {
   "cell_type": "markdown",
   "id": "d30cdc72",
   "metadata": {},
   "source": [
    "## Detecting Languages with Python: A Step-by-Step Guide "
   ]
  },
  {
   "cell_type": "markdown",
   "id": "e3525fcb",
   "metadata": {},
   "source": [
    "Language detection is a key tool in text analytics, enabling researchers to classify documents, messages, and other textual data into their respective languages. With the rise of social media and globalization, detecting languages in multilingual datasets is essential for insights in fields like social sciences, marketing, and natural language processing (NLP). In this tutorial, we will explore how to perform language detection using Python and the langdetect library in a Jupyter Notebook environment."
   ]
  },
  {
   "cell_type": "markdown",
   "id": "65f0c688",
   "metadata": {},
   "source": [
    "## Learning Objectives \n",
    "By the end of this tutorial, you will be able to:\n",
    "\n",
    "- Understand the basics of language detection.\n",
    "- Set up a Python environment for language detection tasks.\n",
    "- Implement a simple language detection tool using Python libraries.\n",
    "- Evaluate the detected languages for datasets and real-world use cases."
   ]
  },
  {
   "cell_type": "markdown",
   "id": "f4e0b7b9",
   "metadata": {},
   "source": [
    "## Target Audience\n",
    "\n",
    "This tutorial is designed for:\n",
    "\n",
    "- Researchers in social sciences and linguistics interested in multilingual data analysis.\n",
    "- Students or professionals beginning their journey in NLP.\n",
    "- Data analysts working with diverse language datasets.\n",
    "- Anyone curious about language detection tools in Python.\n",
    "\n",
    "*Basic knowledge of python (https://www.python.org/) programming is required for this tutorial* "
   ]
  },
  {
   "cell_type": "markdown",
   "id": "7496a863-4e3d-49df-9049-efe93f4ca0dc",
   "metadata": {},
   "source": [
    "## Duration\n",
    "30 mins"
   ]
  },
  {
   "cell_type": "markdown",
   "id": "a91c4786",
   "metadata": {},
   "source": [
    "## Use Cases\n",
    "\n",
    "- *Survey Analysis:* Determine the primary languages in multilingual survey responses.\n",
    "\n",
    "- *Media Studies:* Analyze the distribution of languages in social media posts or news articles.\n"
   ]
  },
  {
   "cell_type": "markdown",
   "id": "95e79480",
   "metadata": {},
   "source": [
    "## Environment Setup\n",
    "\n",
    "This tutorial works on Jupyter with Python 3.7 or higher\n",
    "Use the following command to install the required packages and set up the environment."
   ]
  },
  {
   "cell_type": "code",
   "execution_count": 1,
   "id": "fcaf9ebd",
   "metadata": {},
   "outputs": [
    {
     "name": "stdout",
     "output_type": "stream",
     "text": [
      "Requirement already satisfied: contourpy==1.3.3 in /usr/local/python/3.12.1/lib/python3.12/site-packages (from -r requirements.txt (line 1)) (1.3.3)\n",
      "Requirement already satisfied: cycler==0.12.1 in /home/codespace/.local/lib/python3.12/site-packages (from -r requirements.txt (line 2)) (0.12.1)\n",
      "Requirement already satisfied: fonttools==4.59.0 in /usr/local/python/3.12.1/lib/python3.12/site-packages (from -r requirements.txt (line 3)) (4.59.0)\n",
      "Requirement already satisfied: kiwisolver==1.4.8 in /home/codespace/.local/lib/python3.12/site-packages (from -r requirements.txt (line 4)) (1.4.8)\n",
      "Requirement already satisfied: langdetect==1.0.9 in /usr/local/python/3.12.1/lib/python3.12/site-packages (from -r requirements.txt (line 5)) (1.0.9)\n",
      "Requirement already satisfied: matplotlib==3.10.3 in /home/codespace/.local/lib/python3.12/site-packages (from -r requirements.txt (line 6)) (3.10.3)\n",
      "Requirement already satisfied: numpy==2.3.2 in /usr/local/python/3.12.1/lib/python3.12/site-packages (from -r requirements.txt (line 7)) (2.3.2)\n",
      "Requirement already satisfied: packaging==25.0 in /home/codespace/.local/lib/python3.12/site-packages (from -r requirements.txt (line 8)) (25.0)\n",
      "Requirement already satisfied: pandas==2.3.1 in /usr/local/python/3.12.1/lib/python3.12/site-packages (from -r requirements.txt (line 9)) (2.3.1)\n",
      "Requirement already satisfied: pillow==11.3.0 in /usr/local/python/3.12.1/lib/python3.12/site-packages (from -r requirements.txt (line 10)) (11.3.0)\n",
      "Requirement already satisfied: pyparsing==3.2.3 in /home/codespace/.local/lib/python3.12/site-packages (from -r requirements.txt (line 11)) (3.2.3)\n",
      "Requirement already satisfied: python-dateutil==2.9.0.post0 in /home/codespace/.local/lib/python3.12/site-packages (from -r requirements.txt (line 12)) (2.9.0.post0)\n",
      "Requirement already satisfied: pytz==2025.2 in /home/codespace/.local/lib/python3.12/site-packages (from -r requirements.txt (line 13)) (2025.2)\n",
      "Requirement already satisfied: six==1.17.0 in /home/codespace/.local/lib/python3.12/site-packages (from -r requirements.txt (line 14)) (1.17.0)\n",
      "Requirement already satisfied: tzdata==2025.2 in /home/codespace/.local/lib/python3.12/site-packages (from -r requirements.txt (line 15)) (2025.2)\n",
      "\n",
      "\u001b[1m[\u001b[0m\u001b[34;49mnotice\u001b[0m\u001b[1;39;49m]\u001b[0m\u001b[39;49m A new release of pip is available: \u001b[0m\u001b[31;49m25.1.1\u001b[0m\u001b[39;49m -> \u001b[0m\u001b[32;49m25.2\u001b[0m\n",
      "\u001b[1m[\u001b[0m\u001b[34;49mnotice\u001b[0m\u001b[1;39;49m]\u001b[0m\u001b[39;49m To update, run: \u001b[0m\u001b[32;49mpython3 -m pip install --upgrade pip\u001b[0m\n"
     ]
    }
   ],
   "source": [
    "!pip install -r requirements.txt\n",
    "# It mainly uses langdetect to detect languages, while pandas helps with reading/writing the data, and matplotlib with the plots.\n"
   ]
  },
  {
   "cell_type": "markdown",
   "id": "c3328498",
   "metadata": {},
   "source": [
    "## Input Data\n",
    "\n",
    "The tutorial facilitates working with multilingual textual data coming from social media, as survey responses or news articles. You may either;\n",
    "\n",
    "- Read a small multilingual dataset `data/input.tsv` file as input\n",
    "- Or provide input text directly through the notebook for a quick check \n"
   ]
  },
  {
   "cell_type": "markdown",
   "id": "2e9b29ec",
   "metadata": {},
   "source": [
    "Step-by-step process\n",
    "\n",
    "## 1. Import Required Libraries"
   ]
  },
  {
   "cell_type": "code",
   "execution_count": 2,
   "id": "8c9f0380",
   "metadata": {},
   "outputs": [],
   "source": [
    "from langdetect import detect, detect_langs\n",
    "from langdetect.lang_detect_exception import LangDetectException\n",
    "import matplotlib.pyplot as plt\n",
    "import pandas as pd\n",
    "import numpy as np"
   ]
  },
  {
   "cell_type": "markdown",
   "id": "39fba24c-940c-4679-94c0-c7245de6307e",
   "metadata": {},
   "source": [
    "- langdetect is a simple and lightweight language detection tool. \n",
    "- It is built on Google's language-detection library from Java to Python\n",
    "- It supports the detection of *over 50 languages*.\n",
    "- It uses statistical features and, therefore, may either return the most probable language or a list of languages with probabilities (of course, the longer the text, the better the detection)\n"
   ]
  },
  {
   "cell_type": "markdown",
   "id": "ad365f98",
   "metadata": {},
   "source": [
    "## 2. Define a Language Detection Function\n",
    "\n",
    "  Create a function to detect languages in user-provided text:"
   ]
  },
  {
   "cell_type": "code",
   "execution_count": 3,
   "id": "57509fdf",
   "metadata": {},
   "outputs": [],
   "source": [
    "def detect_language(text):\n",
    "    \"\"\"\n",
    "    Detect the language of the given text.\n",
    "    Args:\n",
    "        text (str): The text to analyze.\n",
    "    Returns:\n",
    "        str: The detected language code (e.g., 'en' for English, 'fr' for French).\n",
    "    \"\"\"\n",
    "    try:\n",
    "        return detect(text)\n",
    "    except LangDetectException:\n",
    "        return \"Unknown\"\n"
   ]
  },
  {
   "cell_type": "code",
   "execution_count": 4,
   "id": "89fd733d-51fd-4011-a973-e4edca7de914",
   "metadata": {},
   "outputs": [],
   "source": [
    "def detect_languages_with_prob(text):\n",
    "    \"\"\"\n",
    "    Detect the language of the given text.\n",
    "    Args:\n",
    "        text (str): The text to analyze.\n",
    "    Returns:\n",
    "        str: The detected language code (e.g., 'en' for English, 'fr' for French).\n",
    "    \"\"\"\n",
    "    try:\n",
    "        return detect_langs(text)\n",
    "    except LangDetectException:\n",
    "        return \"Unknown\"\n"
   ]
  },
  {
   "cell_type": "markdown",
   "id": "8348eae0",
   "metadata": {},
   "source": [
    "## 3. Provide Sample Texts or User Input\n",
    "\n",
    "  Create a list of sample texts and ask the user to provide their own input:"
   ]
  },
  {
   "cell_type": "code",
   "execution_count": null,
   "id": "b4350cb5",
   "metadata": {},
   "outputs": [],
   "source": [
    "# This cell displays sample multilingual texts, prompts the user for input, and prepares a list of texts for language detection.\n",
    "\n",
    "# 1. Apply on sample text\n",
    "sample_text = \"Bonjour tout le monde!\"  # French\n",
    "\n",
    "\n",
    "# 2. If Reader wants their own input text. Uncomment this line please and proceed with your corpus/texts.\n",
    "# sample_text = input(\"\\nEnter your text for language detection (leave empty to use sample texts): \")\n",
    "\n",
    "# 3. Read input texts from `data/input.tsv` file (for bulk detection)\n",
    "df = pd.read_csv('data/input.tsv', sep='\\t')\n"
   ]
  },
  {
   "cell_type": "markdown",
   "id": "ccf8e1f3",
   "metadata": {},
   "source": [
    "## 4. Detect Languages\n",
    "\n",
    "  Detect the language for the sample text and user input text"
   ]
  },
  {
   "cell_type": "code",
   "execution_count": null,
   "id": "8b66ae2c",
   "metadata": {},
   "outputs": [
    {
     "name": "stdout",
     "output_type": "stream",
     "text": [
      "fr  :  Bonjour tout le monde!\n",
      "ja  :  こんにちは お元気ですか\n"
     ]
    }
   ],
   "source": [
    "# 1. sample text\n",
    "print(detect_language(sample_text), \" : \", sample_text)\n",
    "\n",
    "# 2. Input text\n",
    "print(detect_language(sample_text), \" : \", sample_text)\n"
   ]
  },
  {
   "cell_type": "code",
   "execution_count": 7,
   "id": "8dd32d28-c3c5-466e-9e83-6041515ec521",
   "metadata": {},
   "outputs": [
    {
     "name": "stdout",
     "output_type": "stream",
     "text": [
      "fr  :  Bonjour tout le monde!\n",
      "es  :  Hola, ¿cómo estás?\n",
      "en  :  Hello, how are you?\n",
      "hi  :  नमस्ते, आप कैसे हैं?\n",
      "zh-cn  :  你好，你怎么样？\n",
      "fa  :  نن ټوله ورځ باران ورېده\n",
      "de  :  Hallo, wie gehts?\n",
      "pt  :  olá, como vai\n"
     ]
    }
   ],
   "source": [
    "# 3. from dataset\n",
    "df = pd.read_csv(\"data/input.tsv\", sep=\"\\t\")\n",
    "\n",
    "dict_lang = {\"Text\" : [], \"Lang\": []}\n",
    "for text in df[\"Text\"].tolist():\n",
    "    lang = detect_language(text)\n",
    "    print(lang, \" : \", text)\n",
    "    dict_lang[\"Text\"].append(text)\n",
    "    dict_lang[\"Lang\"].append(lang)\n",
    "df = pd.DataFrame(dict_lang)\n",
    "df.to_csv(\"data/output_languages.tsv\", sep=\"\\t\", index = False)"
   ]
  },
  {
   "cell_type": "markdown",
   "id": "43c2238c-9fcb-4842-970a-961871d69d8e",
   "metadata": {},
   "source": [
    "## 5. Detect Languages Probabilities"
   ]
  },
  {
   "cell_type": "markdown",
   "id": "eff0becc",
   "metadata": {
    "vscode": {
     "languageId": "markdown"
    }
   },
   "source": [
    "language detection probabilities enhance the reliability and interpretability of automated language classification, making them essential for robust analysis in social science research."
   ]
  },
  {
   "cell_type": "code",
   "execution_count": null,
   "id": "b2493eb1-2c6f-4c84-be6c-469602d50884",
   "metadata": {},
   "outputs": [
    {
     "name": "stdout",
     "output_type": "stream",
     "text": [
      "[fr:0.9999975732124085]  :  Bonjour tout le monde!\n",
      "[ja:0.9999999999641599]  :  こんにちは お元気ですか\n"
     ]
    }
   ],
   "source": [
    "# 1. sample text\n",
    "print(detect_languages_with_prob(sample_text), \" : \", sample_text)\n",
    "\n",
    "# 2. Input text\n",
    "print(detect_languages_with_prob(sample_text), \" : \", sample_text)"
   ]
  },
  {
   "cell_type": "code",
   "execution_count": 9,
   "id": "64cfdee8-fa19-4be7-ae0d-8b93ea173dc9",
   "metadata": {},
   "outputs": [
    {
     "name": "stdout",
     "output_type": "stream",
     "text": [
      "[fr:0.9999965124596464]  :  Bonjour tout le monde!\n",
      "[es:0.999996969254196]  :  Hola, ¿cómo estás?\n",
      "[en:0.8571398641292957, so:0.1428577659323957]  :  Hello, how are you?\n",
      "[hi:0.9999978803709011]  :  नमस्ते, आप कैसे हैं?\n",
      "[zh-cn:0.9999964356180702]  :  你好，你怎么样？\n",
      "[fa:0.9999973235017153]  :  نن ټوله ورځ باران ورېده\n",
      "[de:0.9999949839774973]  :  Hallo, wie gehts?\n",
      "[pt:0.9999960091013029]  :  olá, como vai\n"
     ]
    }
   ],
   "source": [
    "# 3. from dataset\n",
    "df = pd.read_csv(\"data/input.tsv\", sep=\"\\t\")\n",
    "\n",
    "dict_lang_with_probs = {\"Text\" : [], \"Lang with Prob\" : []}\n",
    "for text in df[\"Text\"].tolist():\n",
    "    langs_with_probs = detect_languages_with_prob(text)\n",
    "    print(langs_with_probs, \" : \", text)\n",
    "    dict_lang_with_probs[\"Text\"].append(text)\n",
    "    dict_lang_with_probs[\"Lang with Prob\"].append(langs_with_probs)\n",
    "df = pd.DataFrame(dict_lang_with_probs)\n",
    "df.to_csv(\"data/output_languages_with_probabilities.tsv\", sep=\"\\t\", index = False)"
   ]
  },
  {
   "cell_type": "markdown",
   "id": "aea5011a",
   "metadata": {},
   "source": [
    "## 6.Visualize the Results\n",
    "\n",
    "Create a bar chart to visualize the detected languages, Although this graph might not provide much insights given the small corpus we use, but might prove useful in discovering patterns when the corpus size is large. "
   ]
  },
  {
   "cell_type": "code",
   "execution_count": 10,
   "id": "962ad9b5",
   "metadata": {},
   "outputs": [
    {
     "data": {
      "image/png": "[encoded data removed]",
      "text/plain": [
       "<Figure size 640x480 with 1 Axes>"
      ]
     },
     "metadata": {},
     "output_type": "display_data"
    }
   ],
   "source": [
    "# This code visualizes the frequency of each detected language in the provided texts.\n",
    "# It first counts how many times each language appears in the detected_languages list,\n",
    "# then creates a bar chart using matplotlib to show the distribution of detected languages.\n",
    "\n",
    "language_counts = {}\n",
    "for lang in dict_lang[\"Lang\"]:\n",
    "    language_counts[lang] = language_counts.get(lang, 0) + 1\n",
    "\n",
    "plt.bar(language_counts.keys(), language_counts.values(), color='skyblue')\n",
    "plt.title('Frequency Bars of Detected Languages')\n",
    "plt.xlabel('Detected Languages')\n",
    "plt.ylabel('Frequency')\n",
    "plt.show()\n"
   ]
  },
  {
   "cell_type": "code",
   "execution_count": 11,
   "id": "c9ee4e82-721b-4f72-baea-269011755bd2",
   "metadata": {},
   "outputs": [
    {
     "data": {
      "image/png": "[encoded data removed]",
      "text/plain": [
       "<Figure size 800x500 with 1 Axes>"
      ]
     },
     "metadata": {},
     "output_type": "display_data"
    }
   ],
   "source": [
    "# Plot languages with their probabilities\n",
    "\n",
    "unique_langs = []\n",
    "\n",
    "for lang_with_prob in dict_lang_with_probs[\"Lang with Prob\"]:\n",
    "    for item in lang_with_prob:\n",
    "        lang, prob = str(item).split(\":\")\n",
    "        if lang not in unique_langs:\n",
    "            unique_langs.append(lang)\n",
    "            \n",
    "unique_langs.sort()\n",
    "\n",
    "results = []\n",
    "for lang_with_prob in dict_lang_with_probs[\"Lang with Prob\"]:\n",
    "    tmp = {}\n",
    "    for item in lang_with_prob:\n",
    "        lang, prob = str(item).split(\":\")\n",
    "        tmp[lang] = float(prob)\n",
    "    for lang in unique_langs:\n",
    "        if lang not in tmp.keys():\n",
    "            tmp[lang] = 0.0\n",
    "    results.append(tmp)\n",
    "\n",
    "# Extract top 2 languages for each item\n",
    "top_langs = []\n",
    "top_probs = []\n",
    "\n",
    "for d in results:\n",
    "    sorted_items = sorted(d.items(), key=lambda x: x[1], reverse=True)[:2]\n",
    "    langs, probs = zip(*sorted_items)\n",
    "    top_langs.append(langs)\n",
    "    top_probs.append(probs)\n",
    "\n",
    "x = np.arange(len(results))  # positions for groups\n",
    "width = 0.35\n",
    "\n",
    "fig, ax = plt.subplots(figsize=(8, 5))\n",
    "\n",
    "for i in range(2):  # for top 2 languages\n",
    "    langs_i = [langs[i] for langs in top_langs]\n",
    "    probs_i = [probs[i] for probs in top_probs]\n",
    "    ax.bar(x + i*width, probs_i, width, label=f\"Top {i+1} lang\", tick_label=langs_i)\n",
    "\n",
    "ax.set_xlabel(\"Items\")\n",
    "ax.set_ylabel(\"Probability\")\n",
    "ax.set_title(\"Top 2 Languages per Item\")\n",
    "ax.legend()\n",
    "\n",
    "plt.xticks(x + width / 2, top_langs)\n",
    "plt.show()\n"
   ]
  },
  {
   "cell_type": "markdown",
   "id": "1a00de16",
   "metadata": {},
   "source": [
    "## Conclusion\n",
    "\n",
    "In conclusion, this tutorial has equipped you with the skills to build a simple language detection tool using Python. This skill is foundational for processing multilingual datasets and paves the way for more advanced tasks in NLP and data analytics.\n",
    "\n",
    "## References\n",
    "\n",
    "- LangDetect Library Documentation: https://pypi.org/project/langdetect/\n",
    "- Pandas Documentation: https://pandas.pydata.org/docs/\n",
    "- Matplotlib Documentation: https://matplotlib.org/stable/contents.html\n",
    "\n",
    "## Contact details\n",
    "[Susmita.Gangopadhyay@gesis.org](mailto:Susmita.Gangopadhyay@gesis.org)\n",
    "\n"
   ]
  }
 ],
 "metadata": {
  "kernelspec": {
   "display_name": "Python 3",
   "language": "python",
   "name": "python3"
  },
  "language_info": {
   "codemirror_mode": {
    "name": "ipython",
    "version": 3
   },
   "file_extension": ".py",
   "mimetype": "text/x-python",
   "name": "python",
   "nbconvert_exporter": "python",
   "pygments_lexer": "ipython3",
   "version": "3.12.1"
  }
 },
 "nbformat": 4,
 "nbformat_minor": 5
}
